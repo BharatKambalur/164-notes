{
 "cells": [
  {
   "cell_type": "markdown",
   "metadata": {},
   "source": [
    "# Large header\n",
    "## Smaller header\n",
    "\n",
    "Some text. **Some bold text**. *Some italic text*. Here is a bullet list:\n",
    "\n",
    "* Item 1\n",
    "* Item 2\n",
    "\n",
    "<table>\n",
    "  <tr>\n",
    "    <td>This is a table...</td>\n",
    "    <td>...created with HTML</td>\n",
    "  </tr>\n",
    "</table>\n",
    "\n",
    "And this is a LaTeX equation: $L=4\\pi\\sigma R^{2} T^{4}$."
   ]
  },
  {
   "cell_type": "code",
   "execution_count": 1,
   "metadata": {},
   "outputs": [
    {
     "data": {
      "text/plain": [
       "81"
      ]
     },
     "execution_count": 1,
     "metadata": {},
     "output_type": "execute_result"
    }
   ],
   "source": [
    "2 + 2                    # Outputs 4\n",
    "str(2) + str(2)          # Outputs 22\n",
    "'2' + '2'                # Outputs 22\n",
    "int(2.6) + float('3.5')  # Outputs 5.5\n",
    "3 ** (2 + 2)             # Outputs 81"
   ]
  },
  {
   "cell_type": "code",
   "execution_count": 2,
   "metadata": {},
   "outputs": [
    {
     "data": {
      "text/plain": [
       "'5.4'"
      ]
     },
     "execution_count": 2,
     "metadata": {},
     "output_type": "execute_result"
    }
   ],
   "source": [
    "str(5.4)"
   ]
  },
  {
   "cell_type": "code",
   "execution_count": 3,
   "metadata": {},
   "outputs": [
    {
     "name": "stdout",
     "output_type": "stream",
     "text": [
      "a is not between 5 and 10\n",
      "a is negative\n"
     ]
    }
   ],
   "source": [
    "a = -2+1j\n",
    "\n",
    "# Check if a is purely real\n",
    "a = complex(a)\n",
    "if a.imag == 0:\n",
    "    print \"a is purely real\"\n",
    "a = a.real\n",
    "\n",
    "# Check if a is between 5 (inclusive) and 10 (exclusive)\n",
    "if a >= 5 and a < 10:\n",
    "    print \"a is between 5 and 10\"\n",
    "else:\n",
    "    print \"a is not between 5 and 10\"\n",
    "\n",
    "# Check if a is positive, negative or 0\n",
    "if a > 0:\n",
    "    print \"a is positive\"\n",
    "elif a < 0:\n",
    "    print \"a is negative\"\n",
    "else:\n",
    "    print \"a is neither positive nor negative\"\n",
    "    print \"So it is probably zero\""
   ]
  },
  {
   "cell_type": "code",
   "execution_count": 4,
   "metadata": {},
   "outputs": [
    {
     "data": {
      "text/plain": [
       "True"
      ]
     },
     "execution_count": 4,
     "metadata": {},
     "output_type": "execute_result"
    }
   ],
   "source": [
    "1 == 2                        # False\n",
    "1 != 2                        # True\n",
    "not (1 == 2)                  # True\n",
    "(1 != 2) and (1 != 3)         # True\n",
    "(1 == 2) and (1 != 3)         # False\n",
    "(1 == 2) or  (1 != 3)         # True\n",
    "(not (1 == 2)) and (1 != 3)   # True"
   ]
  },
  {
   "cell_type": "code",
   "execution_count": 5,
   "metadata": {},
   "outputs": [
    {
     "name": "stdout",
     "output_type": "stream",
     "text": [
      "Python thinks that 42 is True\n",
      "Python thinks that Area 51 is True\n",
      "Python thinks that 0 is False\n",
      "Python thinks that an empty string is False\n"
     ]
    }
   ],
   "source": [
    "if 42:\n",
    "    print \"Python thinks that 42 is True\"\n",
    "\n",
    "if 'Area 51':\n",
    "    print \"Python thinks that Area 51 is True\"\n",
    "    \n",
    "if not 0:\n",
    "    print \"Python thinks that 0 is False\"\n",
    "\n",
    "if not \"\":\n",
    "    print \"Python thinks that an empty string is False\""
   ]
  },
  {
   "cell_type": "code",
   "execution_count": 6,
   "metadata": {},
   "outputs": [
    {
     "name": "stdout",
     "output_type": "stream",
     "text": [
      "Iteration started\n",
      "i = 1\n",
      "Iteration finished\n",
      "Iteration started\n",
      "i = 2\n",
      "Iteration finished\n",
      "Iteration started\n",
      "i = 3\n",
      "Iteration finished\n",
      "Iteration started\n",
      "i = 4\n",
      "Iteration started\n",
      "i = 5\n",
      "Iteration finished\n",
      "Iteration started\n",
      "i = 6\n",
      "End of loop\n"
     ]
    }
   ],
   "source": [
    "i = 1\n",
    "while i <= 10:\n",
    "    print \"Iteration started\"\n",
    "    print \"i =\", i\n",
    "    i += 1\n",
    "    \n",
    "    if i == 5:\n",
    "        continue\n",
    "        \n",
    "    if i == 7:\n",
    "        break\n",
    "    \n",
    "    print \"Iteration finished\"\n",
    "\n",
    "print \"End of loop\""
   ]
  },
  {
   "cell_type": "code",
   "execution_count": 7,
   "metadata": {},
   "outputs": [
    {
     "name": "stdout",
     "output_type": "stream",
     "text": [
      "[1, 2.5, 'Area 51', (1+5j)]\n",
      "[1, 2.5, 'Area 51', (1+5j), False, True]\n",
      "Area 51\n",
      "0 : 1\n",
      "1 : 2.5\n",
      "2 : Area 51\n",
      "3 : (1+5j)\n"
     ]
    }
   ],
   "source": [
    "my_first_list = [1, 2.5, \"Area 51\", 1+5j]\n",
    "my_second_list = [1 == 3, 2 != 4]\n",
    "\n",
    "print my_first_list                   #  [1, 2.5, 'Area 51', (1+5j)]\n",
    "print my_first_list + my_second_list  #  [1, 2.5, 'Area 51', (1+5j), False, True]\n",
    "print my_first_list[2]                #  Area 51\n",
    "\n",
    "i = 0\n",
    "while i < len(my_first_list):\n",
    "    print i, ':', my_first_list[i]\n",
    "    i += 1"
   ]
  },
  {
   "cell_type": "code",
   "execution_count": 8,
   "metadata": {},
   "outputs": [
    {
     "name": "stdout",
     "output_type": "stream",
     "text": [
      "[1, 2.5, 'Aliens', (1+5j)]\n"
     ]
    }
   ],
   "source": [
    "my_first_list = [1, 2.5, \"Area 51\", 1+5j]\n",
    "\n",
    "for i, element in enumerate(my_first_list):\n",
    "    if element == \"Area 51\":\n",
    "        my_first_list[i] = \"Aliens\"\n",
    "    \n",
    "print my_first_list"
   ]
  },
  {
   "cell_type": "code",
   "execution_count": 9,
   "metadata": {},
   "outputs": [
    {
     "name": "stdout",
     "output_type": "stream",
     "text": [
      "[-4, 0.5, 1, 5, 9, 12]\n"
     ]
    }
   ],
   "source": [
    "to_sort = [5, 9, 1, -4, 12, 0.5]\n",
    "\n",
    "for i, element_1 in enumerate(to_sort):\n",
    "    for j, element_2 in enumerate(to_sort):\n",
    "        if i >= j:\n",
    "            continue     # Avoid checking the same elements twice\n",
    "        if element_1 > element_2:\n",
    "            to_sort[i] = element_2\n",
    "            to_sort[j] = element_1\n",
    "            element_1 = to_sort[i]\n",
    "            element_2 = to_sort[j]\n",
    "        \n",
    "print to_sort            # Prints [-4, 0.5, 1, 5, 9, 12]"
   ]
  },
  {
   "cell_type": "code",
   "execution_count": 10,
   "metadata": {},
   "outputs": [
    {
     "name": "stdout",
     "output_type": "stream",
     "text": [
      "3.14159265359\n",
      "2.71828182846\n",
      "-0.9589242746631385 0.28366218546322625 -3.380515006246586\n",
      "20.25 19.434183800715687\n"
     ]
    }
   ],
   "source": [
    "import numpy as np\n",
    "\n",
    "print np.pi          # The circle constant\n",
    "print np.e           # Euler's constant\n",
    "\n",
    "# Trigonometric functions\n",
    "x = 5\n",
    "print np.sin(5), np.cos(5), np.tan(5)\n",
    "\n",
    "# Statistics\n",
    "my_list = [1, 5, 25, 50]\n",
    "print np.mean(my_list), np.std(my_list)"
   ]
  },
  {
   "cell_type": "code",
   "execution_count": 11,
   "metadata": {},
   "outputs": [
    {
     "name": "stdout",
     "output_type": "stream",
     "text": [
      "[1. 1. 1. 1. 1.]\n",
      "[0. 0. 0. 0. 0. 0.]\n",
      "[0.02328333 0.61923733 0.13797043 0.3816853  0.22274921 0.45998901\n",
      " 0.40299715 0.77002287 0.36801993 0.7623017 ]\n",
      "[1 3 6]\n",
      "[ 1.   1.5  2.   2.5  3.   3.5  4.   4.5  5.   5.5  6.   6.5  7.   7.5\n",
      "  8.   8.5  9.   9.5 10. ]\n",
      "[0.80160811 0.80255168 0.891458   0.25777345 0.70288324 0.02055002\n",
      " 0.74414243 0.94704047 0.32507409 0.72875014]\n"
     ]
    }
   ],
   "source": [
    "print np.ones(5)                     # Create an array of five \"ones\"\n",
    "print np.zeros(6)                    # Create an array of six \"zeros\"\n",
    "print np.random.uniform(0, 1, 10)    # Create an array of ten random numbers between 0 and 1\n",
    "print np.array([1, 3, 6])            # Create an array from a list\n",
    "print np.linspace(1, 10, 19)         # Create an array of 19 evenly spaced numbers between 1 and 10\n",
    "\n",
    "# Arrays can be saved in files for future use and loaded from them\n",
    "a = np.random.uniform(0, 1, 10)      # Generate some random numbers\n",
    "np.savetxt('random.dat', a)          # Save them in the file random.dat\n",
    "b = np.loadtxt('random.dat')         # Load them back from the file into b\n",
    "print b                              # Print them"
   ]
  },
  {
   "cell_type": "code",
   "execution_count": 12,
   "metadata": {},
   "outputs": [
    {
     "name": "stdout",
     "output_type": "stream",
     "text": [
      "Integral: 1.9999983517708517\n"
     ]
    }
   ],
   "source": [
    "x = np.linspace(0, np.pi, 1000)        # Array of 1000 evenly spaced numbers between 0 and pi\n",
    "                                       # sin(x) will be \"sampled\" at these points\n",
    "y = np.sin(x)                          # Compute sin(x) for all 1000 numbers (no loops necessary)\n",
    "dx = x[1] - x[0]                       # Difference between adjacent x values\n",
    "print \"Integral:\", np.sum(dx * y)"
   ]
  },
  {
   "cell_type": "code",
   "execution_count": 13,
   "metadata": {},
   "outputs": [
    {
     "data": {
      "text/plain": [
       "<matplotlib.legend.Legend at 0x18087f28>"
      ]
     },
     "execution_count": 13,
     "metadata": {},
     "output_type": "execute_result"
    },
    {
     "data": {
      "image/png": "[encoded data removed]",
      "text/plain": [
       "<Figure size 432x288 with 1 Axes>"
      ]
     },
     "metadata": {
      "needs_background": "light"
     },
     "output_type": "display_data"
    }
   ],
   "source": [
    "import matplotlib.pyplot as plt\n",
    "%matplotlib inline\n",
    "\n",
    "x = np.linspace(2, 5, 1000)\n",
    "y = np.log(x)\n",
    "plt.plot(x, y, 'k-', label = 'Plot', lw = 4)\n",
    "plt.xlabel('$x$', size = 20)\n",
    "plt.ylabel('$\\ln(x)$', size = 20)\n",
    "plt.title('My first MatPlotLib plot')\n",
    "plt.grid()\n",
    "plt.legend(loc = 'upper left')"
   ]
  },
  {
   "cell_type": "code",
   "execution_count": null,
   "metadata": {
    "collapsed": true
   },
   "outputs": [],
   "source": []
  }
 ],
 "metadata": {
  "kernelspec": {
   "display_name": "Python 2",
   "language": "python",
   "name": "python2"
  },
  "language_info": {
   "codemirror_mode": {
    "name": "ipython",
    "version": 2
   },
   "file_extension": ".py",
   "mimetype": "text/x-python",
   "name": "python",
   "nbconvert_exporter": "python",
   "pygments_lexer": "ipython2",
   "version": "2.7.10"
  }
 },
 "nbformat": 4,
 "nbformat_minor": 1
}
