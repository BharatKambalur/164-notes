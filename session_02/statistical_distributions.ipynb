{
 "cells": [
  {
   "cell_type": "markdown",
   "metadata": {},
   "source": [
    "<span style=\"color:#A00;font-weight:bold\">Missing data: this notebook relies on calibration FITS files from Nickel. The files are not provided.</span>"
   ]
  },
  {
   "cell_type": "markdown",
   "metadata": {},
   "source": [
    "## Computational routines for statistics\n",
    "\n",
    "*Poisson and Gaussian probability distributions, Stirling approximation, Monte-Carlo approach for uncertainty propagation*"
   ]
  },
  {
   "cell_type": "code",
   "execution_count": 1,
   "metadata": {},
   "outputs": [],
   "source": [
    "# As always, we need NumPy, MatPlotLib and Astropy FITS\n",
    "import numpy as np\n",
    "import matplotlib.pyplot as plt\n",
    "from astropy.io import fits\n",
    "%matplotlib inline"
   ]
  },
  {
   "cell_type": "markdown",
   "metadata": {},
   "source": [
    "In this entire notebook, I will be working with a single randomly chosen flat field corrected by a single randomly chosen bias frame. You can (and should) experiment with other data too. First, load the two images and subtract the bias:"
   ]
  },
  {
   "cell_type": "code",
   "execution_count": 2,
   "metadata": {},
   "outputs": [
    {
     "name": "stdout",
     "output_type": "stream",
     "text": [
      "Exposure time: 48\n",
      "The shape of data is 1056x1024 pixels\n"
     ]
    }
   ],
   "source": [
    "data_file = '../../FITS/data-2019-01-11/d118.fits'       # Point this to a flat on YOUR hard drive\n",
    "bias_file = '../../FITS/data-2019-01-11/d100.fits'       # Point this to a bias on YOUR hard drive\n",
    "\n",
    "\n",
    "h = fits.open(data_file)\n",
    "if h[0].header['OBJECT'] not in ['flat', 'flats']:    # The \"not in\" statement checks if the value exists\n",
    "                                                      # in a list\n",
    "\n",
    "    # \\n means \"line break\". Below, a formatted output is attempted. Take a closer look at this line and\n",
    "    # try to understand what is going on. Test it by loading in a bias frame instead of a flat.\n",
    "    print \"THIS IS NOT A FLAT FIELD! \\n This is a {frame_type} frame\".format(frame_type = h[0].header['OBJECT'])\n",
    "    \n",
    "# Load the data and typecast it into float\n",
    "data = h[0].data * 1.0\n",
    "\n",
    "h.close()    # Do not forget!\n",
    "\n",
    "\n",
    "# Print some basic information about the file\n",
    "data_shape = np.shape(data)\n",
    "print \"Exposure time: {exp}\".format(exp = h[0].header['EXPTIME'])\n",
    "print \"The shape of data is {width}x{height} pixels\".format(width = data_shape[1], height = data_shape[0])\n",
    "\n",
    "\n",
    "# Now, do the same for the bias frame (should probably define a function for this!)\n",
    "h = fits.open(bias_file)\n",
    "if h[0].header['OBJECT'] != 'bias':\n",
    "    print \"THIS IS NOT A BIAS FRAME! \\n This is a {frame_type} frame\".format(frame_type = h[0].header['OBJECT'])\n",
    "bias = h[0].data * 1.0\n",
    "h.close()\n",
    "\n",
    "\n",
    "# Correct the flat for bias\n",
    "data = data - bias"
   ]
  },
  {
   "cell_type": "markdown",
   "metadata": {},
   "source": [
    "## A short aside regarding conditional array slicing"
   ]
  },
  {
   "cell_type": "code",
   "execution_count": 3,
   "metadata": {},
   "outputs": [
    {
     "name": "stdout",
     "output_type": "stream",
     "text": [
      "[ True  True  True False False]\n",
      "[0 1 2]\n",
      "['Eddard Stark' 'Daenerys Targaryen' 'Jon Snow']\n"
     ]
    },
    {
     "ename": "ValueError",
     "evalue": "The truth value of an array with more than one element is ambiguous. Use a.any() or a.all()",
     "output_type": "error",
     "traceback": [
      "\u001b[1;31m---------------------------------------------------------------------------\u001b[0m",
      "\u001b[1;31mValueError\u001b[0m                                Traceback (most recent call last)",
      "\u001b[1;32m<ipython-input-3-d453ae9aaf4b>\u001b[0m in \u001b[0;36m<module>\u001b[1;34m()\u001b[0m\n\u001b[0;32m     12\u001b[0m \u001b[1;33m\u001b[0m\u001b[0m\n\u001b[0;32m     13\u001b[0m \u001b[1;31m# A caveat concerns \"not\", \"or\" and \"and\" operators. The following will produce an error:\u001b[0m\u001b[1;33m\u001b[0m\u001b[1;33m\u001b[0m\u001b[0m\n\u001b[1;32m---> 14\u001b[1;33m \u001b[1;32mprint\u001b[0m \u001b[0mmy_array\u001b[0m\u001b[1;33m[\u001b[0m\u001b[1;33m(\u001b[0m\u001b[0mmy_array\u001b[0m \u001b[1;33m<\u001b[0m \u001b[1;36m3\u001b[0m\u001b[1;33m)\u001b[0m \u001b[1;32mand\u001b[0m \u001b[1;33m(\u001b[0m\u001b[0mmy_array\u001b[0m \u001b[1;33m>\u001b[0m \u001b[1;36m0\u001b[0m\u001b[1;33m)\u001b[0m\u001b[1;33m]\u001b[0m    \u001b[1;31m# Error! Comment this out to proceed!\u001b[0m\u001b[1;33m\u001b[0m\u001b[0m\n\u001b[0m\u001b[0;32m     15\u001b[0m \u001b[1;33m\u001b[0m\u001b[0m\n\u001b[0;32m     16\u001b[0m \u001b[1;31m# Instead, we need to use np.logical_or(), np.logical_and() and np.logical_not() functions:\u001b[0m\u001b[1;33m\u001b[0m\u001b[1;33m\u001b[0m\u001b[0m\n",
      "\u001b[1;31mValueError\u001b[0m: The truth value of an array with more than one element is ambiguous. Use a.any() or a.all()"
     ]
    }
   ],
   "source": [
    "# Remember that NumPy arrays support automatic iteration (native Python lists do not).\n",
    "# This applies to both arithmetic and logical expressions. For example:\n",
    "my_array = np.array([0, 1, 2, 3, 4])\n",
    "print my_array < 3       # Prints    [ True  True  True False False]\n",
    "\n",
    "# The result of such expression is an array of True/False values. This array can\n",
    "# be used to slice other arrays of the same dimension, where the slice will only\n",
    "# contain those elements that correspond to True:\n",
    "print my_array[my_array < 3]             # Prints [0 1 2]\n",
    "got_characters = np.array(['Eddard Stark', 'Daenerys Targaryen', 'Jon Snow', 'Sansa Stark', 'Theon Greyjoy'])\n",
    "print got_characters[my_array < 3]       # Prints ['Eddard Stark' 'Daenerys Targaryen' 'Jon Snow']\n",
    "\n",
    "# A caveat concerns \"not\", \"or\" and \"and\" operators. The following will produce an error:\n",
    "print my_array[(my_array < 3) and (my_array > 0)]    # Error! Comment this out to proceed!\n",
    "\n",
    "# Instead, we need to use np.logical_or(), np.logical_and() and np.logical_not() functions:\n",
    "print my_array[np.logical_and(my_array < 3, my_array > 0)]    # Prints [1 2]\n",
    "\n",
    "# Most of those have shorthands. Use \"~\" for \"not\", \"&\" for \"and\" and \"|\" for \"or\". E.g.:\n",
    "print my_array[(my_array < 3) & (my_array > 0)]        # Prints [1 2], again\n",
    "print my_array[(my_array > 3) | (my_array < 1)]        # Prints [0 4]"
   ]
  },
  {
   "cell_type": "markdown",
   "metadata": {},
   "source": [
    "## Probability histograms\n",
    "\n",
    "The learning objective of this computing session is your ability to overplot FITS histograms with Poisson and Gaussian probability distributions. The Poisson distribution models **independent** events occurring at a **constant** mean rate in time or space. The arrival of photons at a CCD, emitted by a source of constant brightness, is a likely candidate for Poisson statistics.\n",
    "\n",
    "To compare our data against a theoretical probability distribution, we need to plot its histogram first. Below, I will borrow the `my_hist()` function from the previous computing session (FITS Basics) and improve it in two ways:\n",
    "\n",
    "* The $y$-axis must show probabilities instead of frequencies, as it would in a regular histogram. Frequencies are, of course, directly proportional to probabilities (an event that is twice as likely to occur will occur twice as often), which means that the conversion from frequencies to probabilities is a matter of scale. The fact that all probabilities must add to $1$ can be used to estimate the necessary scaling factor.\n",
    "* To suppress the outliers, I will cap the data at $3\\sigma$ below and above the mean value. The probability of a genuine data point lying outside $3\\sigma$ is approximately $0.3 \\%$, meaning that a predominating majority of these points are not genuine and are outliers."
   ]
  },
  {
   "cell_type": "code",
   "execution_count": 4,
   "metadata": {},
   "outputs": [
    {
     "data": {
      "text/plain": [
       "Text(0,0.5,'Probability')"
      ]
     },
     "execution_count": 4,
     "metadata": {},
     "output_type": "execute_result"
    },
    {
     "data": {
      "image/png": "[encoded data removed]",
      "text/plain": [
       "<Figure size 432x288 with 1 Axes>"
      ]
     },
     "metadata": {
      "needs_background": "light"
     },
     "output_type": "display_data"
    }
   ],
   "source": [
    "def remove_outliers(data, sigmas):\n",
    "    \"\"\"Remove all data points that are too far from the mean\"\"\"\n",
    "    mean = np.mean(data)     # Use YOUR mean function here\n",
    "    std = np.std(data)       # Use YOUR std function here\n",
    "    \n",
    "    # Condition to identify outliers\n",
    "    condition = np.logical_or(data < mean - sigmas * std, data > mean + sigmas * std)\n",
    "    \n",
    "    while (len(data[condition]) > 0):              # While there are items satisfying the condition...\n",
    "        data = data[np.logical_not(condition)]     # ...remove them!\n",
    "        mean = np.mean(data); std = np.std(data)   # Recalculate mean and std. \";\" allows multiple\n",
    "                                                   # commands in the same line!\n",
    "        # Recalculate the condition\n",
    "        condition = np.logical_or(data < mean - sigmas * std, data > mean + sigmas * std)\n",
    "    return data\n",
    "\n",
    "def my_hist(data, bins):\n",
    "    \"\"\"Plot a normalized histogram of 1D data with a given number of bins\"\"\"\n",
    "    \n",
    "    ### New addition begins here ###\n",
    "    data = remove_outliers(data, 3)                # Kill all 3-sigma outliers\n",
    "    ### New addition ends here ###\n",
    "    \n",
    "    bin_left_edges  = np.linspace(min(data), max(data), bins + 1)\n",
    "    bin_left_edges = bin_left_edges[:-1]\n",
    "    bin_width  = bin_left_edges[1] - bin_left_edges[0]\n",
    "    bin_right_edges = bin_left_edges + bin_width\n",
    "    bin_centres = (bin_left_edges + bin_right_edges) / 2.0\n",
    "    bin_values = np.zeros(bins)\n",
    "    for i, bin_centre in enumerate(bin_centres):\n",
    "        condition = np.logical_and(data > bin_left_edges[i], data <= bin_right_edges[i])\n",
    "        bin_values[i] = len(data[condition])\n",
    "    \n",
    "    ### New addition begin here ###\n",
    "    total_area = np.sum(bin_values * bin_width)    # Find the area of the histogram\n",
    "    bin_values /= total_area                       # Divide it out to ensure the area of 1\n",
    "    ### New addition end here ###\n",
    "    \n",
    "    plt.step(bin_centres, bin_values)   # Just like plt.plot(), but the plot looks like a staircase\n",
    "\n",
    "flattened = data[400:500,400:500].flatten()       # As before, we only plot a small slice to avoid any bias due\n",
    "                                                  # to overall brightness variation\n",
    "my_hist(flattened, 50)\n",
    "plt.ylabel(\"Probability\")"
   ]
  },
  {
   "cell_type": "markdown",
   "metadata": {},
   "source": [
    "## Stirling approximation\n",
    "\n",
    "Below is the standard expression for the Poisson probability distribution:\n",
    "\n",
    "$$P(x, \\mu) = e^{-\\mu} \\frac{\\mu^x}{x!}$$\n",
    "\n",
    "This equation can be easily evaluated for small $x$ and $\\mu$, but it becomes unmanageable at large values, since both the factorial and the exponential blow up into ridiculously large numbers. In fact, Python cannot handle even 4-digit exponentials out of the box:"
   ]
  },
  {
   "cell_type": "code",
   "execution_count": 5,
   "metadata": {},
   "outputs": [
    {
     "ename": "OverflowError",
     "evalue": "(34, 'Result too large')",
     "output_type": "error",
     "traceback": [
      "\u001b[1;31m---------------------------------------------------------------------------\u001b[0m",
      "\u001b[1;31mOverflowError\u001b[0m                             Traceback (most recent call last)",
      "\u001b[1;32m<ipython-input-5-02cdc28f8b6c>\u001b[0m in \u001b[0;36m<module>\u001b[1;34m()\u001b[0m\n\u001b[1;32m----> 1\u001b[1;33m \u001b[1;32mprint\u001b[0m \u001b[0mnp\u001b[0m\u001b[1;33m.\u001b[0m\u001b[0me\u001b[0m \u001b[1;33m**\u001b[0m \u001b[1;33m(\u001b[0m\u001b[1;36m1000\u001b[0m\u001b[1;33m)\u001b[0m      \u001b[1;31m# ERROR!\u001b[0m\u001b[1;33m\u001b[0m\u001b[0m\n\u001b[0m",
      "\u001b[1;31mOverflowError\u001b[0m: (34, 'Result too large')"
     ]
    }
   ],
   "source": [
    "print np.e ** (1000)      # ERROR!   "
   ]
  },
  {
   "cell_type": "markdown",
   "metadata": {},
   "source": [
    "To address this issue, we will first take a logarithm of both sides to kill off any exponentials:\n",
    "\n",
    "$$\\ln(P(x, \\mu)) = x\\ln(\\mu) - \\ln(x!) - \\mu$$\n",
    "\n",
    "It turns out that $\\ln(x!)$ has a very simple approximation:\n",
    "\n",
    "$$\\ln(x!) \\approx \\ln(\\sqrt{2 \\pi}) + (x+0.5)\\ln(x) - x$$\n",
    "\n",
    "This approximation is known as *Stirling approximation* after James Stirling - a British mathematician who was designing approximations for computationally demanding operations over 200 years before the first computer was invented!\n",
    "\n",
    "The Stirling approximation is asymptotic, meaning that it gets better as $x$ grows large. The cell below implements the Stirling-approximated Poisson distribution in Python:"
   ]
  },
  {
   "cell_type": "code",
   "execution_count": 6,
   "metadata": {},
   "outputs": [
    {
     "name": "stdout",
     "output_type": "stream",
     "text": [
      "For x=8 and mean=7\n",
      "Exact probability: 0.130377432215\n",
      "Stirling probability: 0.12384483431664568\n"
     ]
    }
   ],
   "source": [
    "def poisson(x, mean):\n",
    "    \"\"\"Compute the Poisson probability of observing x given a mean value\"\"\"\n",
    "    log_factorial = np.log(np.sqrt(2 * np.pi)) + (x + 0.5) * np.log(x) - x\n",
    "    log_poisson = x * np.log(mean) - log_factorial - mean\n",
    "    return np.e ** log_poisson\n",
    "\n",
    "print \"For x=8 and mean=7\"\n",
    "print \"Exact probability:\", np.e ** (-7.0) * 7.0 ** 8.0 / (1 * 2 * 3 * 4 * 5 * 6 * 7 * 8)\n",
    "print \"Stirling probability:\", poisson(6, 8)"
   ]
  },
  {
   "cell_type": "markdown",
   "metadata": {},
   "source": [
    "To check how well the Poisson distribution matches our data, we plot both on the same set of axes:"
   ]
  },
  {
   "cell_type": "code",
   "execution_count": 7,
   "metadata": {},
   "outputs": [
    {
     "data": {
      "text/plain": [
       "[<matplotlib.lines.Line2D at 0x40bf518>]"
      ]
     },
     "execution_count": 7,
     "metadata": {},
     "output_type": "execute_result"
    },
    {
     "data": {
      "image/png": "[encoded data removed]",
      "text/plain": [
       "<Figure size 432x288 with 1 Axes>"
      ]
     },
     "metadata": {
      "needs_background": "light"
     },
     "output_type": "display_data"
    }
   ],
   "source": [
    "my_hist(flattened, 50)\n",
    "mean = np.mean(flattened)\n",
    "std = np.std(flattened)\n",
    "\n",
    "x = np.linspace(mean - 3 * std, mean + 3 * std, 1000)   # Generate a 3 sigma plot of 1000 points\n",
    "y = poisson(x, mean)\n",
    "plt.plot(x, y)"
   ]
  },
  {
   "cell_type": "markdown",
   "metadata": {},
   "source": [
    "## A short aside regarding CCD gain\n",
    "\n",
    "It was previously emphasized that Poisson statistics assumes that the events being modelled are independent. While the arrival of an individual photon may very well satisfy this requirement, the generation of an ADU (analog-to-digital unit) by the CCD will certainly not. A better match between the theoretical distribution and the data histogram can be achieved if the histogram is multiplied by the ratio of photoelectrons to ADUs, also known as the **CCD gain**.\n",
    "\n",
    "Later in the course, we will perform statistical analysis of data to estimate the exact value of gain ($g$). For now, let us assume a typical CCD gain of (roughly) $g=1.8$ photoelectrons per ADU and rescale the data by it:"
   ]
  },
  {
   "cell_type": "code",
   "execution_count": 8,
   "metadata": {},
   "outputs": [
    {
     "data": {
      "text/plain": [
       "[<matplotlib.lines.Line2D at 0x196dbf28>]"
      ]
     },
     "execution_count": 8,
     "metadata": {},
     "output_type": "execute_result"
    },
    {
     "data": {
      "image/png": "[encoded data removed]",
      "text/plain": [
       "<Figure size 432x288 with 1 Axes>"
      ]
     },
     "metadata": {
      "needs_background": "light"
     },
     "output_type": "display_data"
    }
   ],
   "source": [
    "gain_corrected = flattened * 1.8\n",
    "\n",
    "my_hist(gain_corrected, 50)\n",
    "mean = np.mean(gain_corrected)\n",
    "std = np.std(gain_corrected)\n",
    "x = np.linspace(mean - 3 * std, mean + 3 * std, 1000)\n",
    "y = poisson(x, mean)\n",
    "plt.plot(x, y)"
   ]
  },
  {
   "cell_type": "markdown",
   "metadata": {},
   "source": [
    "## Gaussian (normal) distribution\n",
    "\n",
    "Defined as:\n",
    "\n",
    "$$P(x,\\mu,\\sigma) = \\frac{e^{-\\frac{(x - \\mu)^2}{2\\sigma^2}}}{\\sqrt{2  \\pi  \\sigma^2}}$$\n",
    "\n",
    "is used for modelling the distribution of the mean of multiple observations. It turns out that for a sufficiently large number of measurements, the distribution of their mean is Gaussian regardless of the distribution of the measurements themselves (the so-called *Central Limit Theorem*). Consider the following example:"
   ]
  },
  {
   "cell_type": "code",
   "execution_count": 9,
   "metadata": {},
   "outputs": [
    {
     "data": {
      "image/png": "[encoded data removed]",
      "text/plain": [
       "<Figure size 432x288 with 1 Axes>"
      ]
     },
     "metadata": {
      "needs_background": "light"
     },
     "output_type": "display_data"
    }
   ],
   "source": [
    "sample_data = np.random.uniform(0, 1, 1000) # Generate 1000 random values between 0 and 1\n",
    "my_hist(sample_data, 50)"
   ]
  },
  {
   "cell_type": "markdown",
   "metadata": {},
   "source": [
    "In the cell above, I used *NumPy* to generate $1000$ random numbers between $1$ and $0$ such that the probability of every outcome is the same. The distribution of this dataset has nothing to do with the Gaussian formula, as can be seen in the histogram above. Now, instead of plotting the observations themselves, let's try plotting their mean values:"
   ]
  },
  {
   "cell_type": "code",
   "execution_count": 10,
   "metadata": {},
   "outputs": [
    {
     "data": {
      "image/png": "[encoded data removed]",
      "text/plain": [
       "<Figure size 432x288 with 1 Axes>"
      ]
     },
     "metadata": {
      "needs_background": "light"
     },
     "output_type": "display_data"
    }
   ],
   "source": [
    "sample_data = np.random.uniform(0, 1, 1000000)        # Generate a million random values\n",
    "sample_data = np.reshape(sample_data, [1000, 1000])   # Turn those into a 1000x1000 2D array\n",
    "sample_data = np.mean(sample_data, axis = 1)          # \"axis = 1\" means \"only average along one of the dimensions\"\n",
    "my_hist(sample_data, 50)"
   ]
  },
  {
   "cell_type": "markdown",
   "metadata": {},
   "source": [
    "Hopefully, the second histogram looks more Gaussian, even though nothing about the original data was. In the case of CCD imaging, the data is expected to follow Poisson distribution, gradually tending towards Gaussian as the number of photons detected increases.\n",
    "\n",
    "Apart from being less precise for small sample sizes, the Gaussian probability distribution has another major advantage: one needs to know both $\\mu$ and $\\sigma$ to compute it, whereby the latter may not always be reliably known. This is another reason why Poisson statistics is sometimes preferred, where only $\\mu$ needs to be known.\n",
    "\n",
    "The Gaussian formula is much less computationally demanding than Poisson's, as it does not feature factorials or exponentials with very large indices. Hence, it can be calculated directly without the need for approximations. I leave it up to the students to write the necessary Python function and overplot the Gaussian curve with the data histogram."
   ]
  },
  {
   "cell_type": "markdown",
   "metadata": {},
   "source": [
    "## Monte-Carlo approach\n",
    "\n",
    "Monte-Carlo is a district of Monaco, famous for its casinos, gambling mathematicians and, of course, methods for manipulating probability distributions to make sure that the \"house always wins\" rule holds. As useful as Poisson and Gaussian distributions may be, they are merely approximations that only work under certain conditions and only to a limited degree of precision.\n",
    "\n",
    "The *Monte-Carlo approach* employs the ever-increasing power of modern computers to simulate probability distributions, tailor-made for every individual case with arbitrarily high precision. One of the driving motivations behind early Monte-Carlo pioneers was their struggle to statistically predict outcomes of solitaire games, where the rules are complicated enough to make all standard probability distributions useless.\n",
    "\n",
    "<table><tr><td>\n",
    "<i>In freecell, there are 32000 different instances of the game. According to the help, \"It is believed (although not proven) that every game is winnable.\" In fact, it has been proven that one game, #11982, is not winnable.\n",
    "<br><br>\n",
    "Tim O'Reilly et al pointing out a mistake in the Windows 98 solitaire game help-file. Taken from \"Windows 98 in a Nutshell\".</i>\n",
    "></td></tr></table>\n",
    "\n",
    "The power of Monte-Carlo is best illustrated with a classic example:\n",
    "\n",
    "<table><tr><td>\n",
    "What is a probability that a randomly chosen point on a unit (1x1) square lies within a circle, inscribed in that square?\n",
    "</td></tr></table>\n",
    "\n",
    "Of course, the answer is the ratio of the area of the circle to the area of the square, i.e. $\\pi/4$. The cell below attempts to answer the same question using the Monte-Carlo approach:"
   ]
  },
  {
   "cell_type": "code",
   "execution_count": 12,
   "metadata": {},
   "outputs": [
    {
     "name": "stdout",
     "output_type": "stream",
     "text": [
      "3.13352\n"
     ]
    }
   ],
   "source": [
    "# Generate 100000 random pairs of numbers between -0.5 and 0.5 that represent the coordinates on the square\n",
    "x = np.random.uniform(-0.5, 0.5, 100000)\n",
    "y = np.random.uniform(-0.5, 0.5, 100000)\n",
    "\n",
    "# How many are within the circle?\n",
    "circle_count = len(x[(x ** 2.0 + y ** 2.0) <= (0.5 ** 2.0)])\n",
    "\n",
    "# What is the probability of that happening?\n",
    "circle_prob = circle_count / float(len(x))\n",
    "\n",
    "# What is the value of pi?\n",
    "print 4.0 * circle_prob"
   ]
  },
  {
   "cell_type": "markdown",
   "metadata": {},
   "source": [
    "Now, let us consider an example more relevant to PHYS164: uncertainty propagation. Consider the following function:\n",
    "\n",
    "$$y = \\ln(x)$$\n",
    "\n",
    "Suppose that $x$ represents an observable quantity that has been measured to have the mean of $50$ and the standard deviation of $0.2$. Also suppose that the number of experimental trials is sufficiently large to make the distribution of $x$ Gaussian. What is the uncertainty (standard deviation) in $y$?\n",
    "\n",
    "One way of answering this question is by using the uncertainty propagation equation presented in the lectures:\n",
    "\n",
    "$$\\sigma_y = \\sigma_x \\times \\frac{1}{x} = 0.2/50 = 0.004$$\n",
    "\n",
    "Below, I do the same calculation using the Monte-Carlo approach:"
   ]
  },
  {
   "cell_type": "code",
   "execution_count": 13,
   "metadata": {},
   "outputs": [
    {
     "name": "stdout",
     "output_type": "stream",
     "text": [
      "The uncertainty in y is: 0.003976114028287838\n"
     ]
    }
   ],
   "source": [
    "x = np.random.normal(50, 0.2, 10000)    # This time, we are generating 10000 Gaussian random numbers with\n",
    "                                        # the mean of 50 and standard deviation of 0.2\n",
    "    \n",
    "y = np.log(x)\n",
    "print \"The uncertainty in y is:\", np.std(y)"
   ]
  },
  {
   "cell_type": "markdown",
   "metadata": {},
   "source": [
    "With some luck, the value obtained through Monte-Carlo simulations is very close to the theoretically predicted value. There are at least two reasons why you may prefer to propagate uncertainties using Monte-Carlo instead of the propagation formula:\n",
    "\n",
    "* It is simpler! No algebraic manipulations are required! This is particularly relevant, when the dependence of $y$ on $x$ is very complicated, unknown or non-algebraic!\n",
    "* If the number of random values is large enough, Monte-Carlo can and will be more accurate than the propagation formula, because it is free of all the simplifying assumptions that were used when deriving the formula, such as $\\sigma_x \\ll x$."
   ]
  },
  {
   "cell_type": "code",
   "execution_count": null,
   "metadata": {
    "collapsed": true
   },
   "outputs": [],
   "source": []
  }
 ],
 "metadata": {
  "kernelspec": {
   "display_name": "Python 2",
   "language": "python",
   "name": "python2"
  },
  "language_info": {
   "codemirror_mode": {
    "name": "ipython",
    "version": 2
   },
   "file_extension": ".py",
   "mimetype": "text/x-python",
   "name": "python",
   "nbconvert_exporter": "python",
   "pygments_lexer": "ipython2",
   "version": "2.7.10"
  }
 },
 "nbformat": 4,
 "nbformat_minor": 1
}
